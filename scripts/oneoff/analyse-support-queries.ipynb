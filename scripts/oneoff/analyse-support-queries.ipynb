{
 "cells": [
  {
   "cell_type": "code",
   "execution_count": null,
   "metadata": {
    "collapsed": true
   },
   "outputs": [],
   "source": [
    "import pandas as pd\n",
    "import numpy as np\n",
    "from sklearn.feature_extraction.text import TfidfVectorizer\n",
    "pd.set_option('display.max_rows', 150)\n",
    "pd.set_option('display.max_colwidth', None)"
   ]
  },
  {
   "cell_type": "code",
   "execution_count": null,
   "outputs": [],
   "source": [
    "data_path = \"../../data/DOS_salesforce_queries_jun_to_dec_2020.csv\"\n",
    "queries = pd.read_csv(data_path)[['Subject', 'Description', 'Resolution Notes', 'Case Comments', 'Type of issue Summary']]"
   ],
   "metadata": {
    "collapsed": false
   }
  },
  {
   "cell_type": "code",
   "execution_count": null,
   "outputs": [],
   "source": [
    "queries['Type of issue Summary'] = queries['Type of issue Summary'].apply(lambda x: x.rstrip() if isinstance(x,str) else \"\")\n",
    "taxonomy = queries['Type of issue Summary'].value_counts()\n",
    "taxonomy = taxonomy.reset_index()\n",
    "taxonomy"
   ],
   "metadata": {
    "collapsed": false
   }
  },
  {
   "cell_type": "code",
   "execution_count": null,
   "outputs": [],
   "source": [
    "vectorizer = TfidfVectorizer(stop_words='english', max_features=100)\n",
    "corpus = queries.fillna('').drop(columns=['Type of issue Summary']).apply('\\n'.join, axis=1)\n",
    "vectors = vectorizer.fit_transform(corpus)\n",
    "terms = np.array(vectorizer.get_feature_names())"
   ],
   "metadata": {
    "collapsed": false
   }
  },
  {
   "cell_type": "code",
   "execution_count": null,
   "outputs": [],
   "source": [
    "top_n = 5\n",
    "queries[\"Top Words\"] = [ \" \".join(x) for x in terms[np.argsort(vectors.toarray(), axis=1)[:,:-top_n-1:-1]]]\n",
    "queries[[\"Type of issue Summary\", \"Top Words\"]]"
   ],
   "metadata": {
    "collapsed": false
   }
  }
 ],
 "metadata": {
  "kernelspec": {
   "name": "pycharm-7532ac0b",
   "language": "python",
   "display_name": "PyCharm (digitalmarketplace-scripts)"
  },
  "language_info": {
   "codemirror_mode": {
    "name": "ipython",
    "version": 2
   },
   "file_extension": ".py",
   "mimetype": "text/x-python",
   "name": "python",
   "nbconvert_exporter": "python",
   "pygments_lexer": "ipython2",
   "version": "2.7.6"
  }
 },
 "nbformat": 4,
 "nbformat_minor": 0
}
